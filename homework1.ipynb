{
 "cells": [
  {
   "cell_type": "markdown",
   "id": "032d81b2",
   "metadata": {},
   "source": [
    "# 1\n",
    "x = 3 ----> floata çevirelim. Çevirdikten sonra beri tipinide yazdıralım.\n",
    "\n",
    "y = 4.5 -----> integere çevirelim. Çevirdikten sonra beri tipinide yazdıralım.\n",
    "\n",
    "z = \"8\" -----> integera çevirelim. Çevirdikten sonra beri tipinide yazdıralım.\n",
    "\n",
    "a = \"12\" -----> floata çevirelim. Çevirdikten sonra beri tipinide yazdıralım.\n",
    "\n",
    "b = \"46.8\" ------> integera çevirelim. Çevirdikten sonra beri tipinide yazdıralım."
   ]
  },
  {
   "cell_type": "code",
   "execution_count": 9,
   "id": "5f613f11-64d8-4862-bca1-1d710f64e52a",
   "metadata": {},
   "outputs": [],
   "source": [
    "x = 3"
   ]
  },
  {
   "cell_type": "code",
   "execution_count": 11,
   "id": "8c554b2f-9556-406f-811f-7b5bd706807d",
   "metadata": {},
   "outputs": [
    {
     "data": {
      "text/plain": [
       "3.0"
      ]
     },
     "execution_count": 11,
     "metadata": {},
     "output_type": "execute_result"
    }
   ],
   "source": [
    "float(x)"
   ]
  },
  {
   "cell_type": "code",
   "execution_count": 13,
   "id": "d9883b2d-6cd5-4c26-8a50-8ec0a032b41c",
   "metadata": {},
   "outputs": [
    {
     "name": "stdout",
     "output_type": "stream",
     "text": [
      "<class 'float'>\n"
     ]
    }
   ],
   "source": [
    "print(type(3.0))"
   ]
  },
  {
   "cell_type": "code",
   "execution_count": 15,
   "id": "d77def0d-8e0c-4e21-bfa6-e2cc280c9db3",
   "metadata": {},
   "outputs": [],
   "source": [
    "y = 4.5"
   ]
  },
  {
   "cell_type": "code",
   "execution_count": 17,
   "id": "07f2dccd-b726-4fc5-b40f-ffb9e07b64b1",
   "metadata": {},
   "outputs": [
    {
     "data": {
      "text/plain": [
       "4"
      ]
     },
     "execution_count": 17,
     "metadata": {},
     "output_type": "execute_result"
    }
   ],
   "source": [
    "int(y)"
   ]
  },
  {
   "cell_type": "code",
   "execution_count": 19,
   "id": "97158604-75f8-4d32-a18f-79b0eaa109e0",
   "metadata": {},
   "outputs": [
    {
     "name": "stdout",
     "output_type": "stream",
     "text": [
      "<class 'int'>\n"
     ]
    }
   ],
   "source": [
    "print(type(4))"
   ]
  },
  {
   "cell_type": "code",
   "execution_count": 21,
   "id": "e99e406e-e1d5-4f06-bb70-f1fa6b2fe049",
   "metadata": {},
   "outputs": [],
   "source": [
    "z = \"8\""
   ]
  },
  {
   "cell_type": "code",
   "execution_count": 23,
   "id": "fcbfbba0-c417-45eb-bd54-076df6a9e063",
   "metadata": {},
   "outputs": [
    {
     "data": {
      "text/plain": [
       "8"
      ]
     },
     "execution_count": 23,
     "metadata": {},
     "output_type": "execute_result"
    }
   ],
   "source": [
    "int(z)"
   ]
  },
  {
   "cell_type": "code",
   "execution_count": 27,
   "id": "9073fc84-77f4-453f-a378-86cefb13de08",
   "metadata": {},
   "outputs": [
    {
     "name": "stdout",
     "output_type": "stream",
     "text": [
      "<class 'int'>\n"
     ]
    }
   ],
   "source": [
    "print(type(8))"
   ]
  },
  {
   "cell_type": "code",
   "execution_count": 29,
   "id": "293d7834-8fdd-4221-b50a-2d87ad4917b2",
   "metadata": {},
   "outputs": [],
   "source": [
    "a = \"12\""
   ]
  },
  {
   "cell_type": "code",
   "execution_count": 31,
   "id": "96b922cc-70dd-47d2-a1b1-0c503b058dee",
   "metadata": {},
   "outputs": [
    {
     "data": {
      "text/plain": [
       "12.0"
      ]
     },
     "execution_count": 31,
     "metadata": {},
     "output_type": "execute_result"
    }
   ],
   "source": [
    "float(a)"
   ]
  },
  {
   "cell_type": "code",
   "execution_count": 33,
   "id": "3bd147d3-d6db-45f8-a28a-8ebf518c3cc7",
   "metadata": {},
   "outputs": [
    {
     "name": "stdout",
     "output_type": "stream",
     "text": [
      "<class 'float'>\n"
     ]
    }
   ],
   "source": [
    "print(type(12.0))"
   ]
  },
  {
   "cell_type": "code",
   "execution_count": 35,
   "id": "bfd84da5-a8ed-4ca8-b917-f20d80284215",
   "metadata": {},
   "outputs": [],
   "source": [
    "b = \"46.8\""
   ]
  },
  {
   "cell_type": "code",
   "execution_count": 39,
   "id": "bc69d2c0-2b7c-4b00-bc70-4b9df102d767",
   "metadata": {},
   "outputs": [
    {
     "data": {
      "text/plain": [
       "46.8"
      ]
     },
     "execution_count": 39,
     "metadata": {},
     "output_type": "execute_result"
    }
   ],
   "source": [
    "float(b)"
   ]
  },
  {
   "cell_type": "code",
   "execution_count": 43,
   "id": "c3be1303-1f67-4b83-b294-a61b419ccc49",
   "metadata": {},
   "outputs": [
    {
     "data": {
      "text/plain": [
       "46"
      ]
     },
     "execution_count": 43,
     "metadata": {},
     "output_type": "execute_result"
    }
   ],
   "source": [
    "int(46.8)"
   ]
  },
  {
   "cell_type": "code",
   "execution_count": 45,
   "id": "6b452db1-6e6a-42ef-95c8-5f9ed63e4617",
   "metadata": {},
   "outputs": [
    {
     "name": "stdout",
     "output_type": "stream",
     "text": [
      "<class 'int'>\n"
     ]
    }
   ],
   "source": [
    "print(type(46))"
   ]
  },
  {
   "cell_type": "markdown",
   "id": "95509718",
   "metadata": {},
   "source": [
    "# 2 \n",
    "İsimlerden oluşan üç değişkene yaş değerleri atanır. Belirlenen üç değişken birbiriyle karşılaştırma operatörleri ile karşılaştırılır. Bu karşılaştırmalara mantıksal operatörler de eklenir."
   ]
  },
  {
   "cell_type": "code",
   "execution_count": 82,
   "id": "50f77b4f",
   "metadata": {},
   "outputs": [],
   "source": [
    "Ayse = 25\n",
    "Fatma = 32\n",
    "Hayriye = 43"
   ]
  },
  {
   "cell_type": "code",
   "execution_count": 84,
   "id": "55b136b7-f681-462d-a76d-fd4d1b728f96",
   "metadata": {},
   "outputs": [
    {
     "data": {
      "text/plain": [
       "False"
      ]
     },
     "execution_count": 84,
     "metadata": {},
     "output_type": "execute_result"
    }
   ],
   "source": [
    "Ayse > Fatma"
   ]
  },
  {
   "cell_type": "code",
   "execution_count": 86,
   "id": "9ac5c9f7-156d-431d-becc-217ea133c5be",
   "metadata": {},
   "outputs": [
    {
     "data": {
      "text/plain": [
       "True"
      ]
     },
     "execution_count": 86,
     "metadata": {},
     "output_type": "execute_result"
    }
   ],
   "source": [
    "Fatma < Hayriye"
   ]
  },
  {
   "cell_type": "code",
   "execution_count": 88,
   "id": "1e4e8261-15e0-4194-8654-a93d6da3b095",
   "metadata": {},
   "outputs": [
    {
     "data": {
      "text/plain": [
       "True"
      ]
     },
     "execution_count": 88,
     "metadata": {},
     "output_type": "execute_result"
    }
   ],
   "source": [
    "Hayriye > Ayse"
   ]
  },
  {
   "cell_type": "code",
   "execution_count": 90,
   "id": "d968ae0d-d697-44cf-a479-55bca91c7db2",
   "metadata": {},
   "outputs": [
    {
     "data": {
      "text/plain": [
       "False"
      ]
     },
     "execution_count": 90,
     "metadata": {},
     "output_type": "execute_result"
    }
   ],
   "source": [
    "Hayriye == Fatma"
   ]
  },
  {
   "cell_type": "code",
   "execution_count": 92,
   "id": "6ccaaf20-988d-4b23-9e39-d95a32a070ce",
   "metadata": {},
   "outputs": [
    {
     "data": {
      "text/plain": [
       "False"
      ]
     },
     "execution_count": 92,
     "metadata": {},
     "output_type": "execute_result"
    }
   ],
   "source": [
    "Ayse == Hayriye"
   ]
  },
  {
   "cell_type": "code",
   "execution_count": 94,
   "id": "0d5f5f0d-aa9a-47a2-a0e0-3546aafb7589",
   "metadata": {},
   "outputs": [
    {
     "data": {
      "text/plain": [
       "True"
      ]
     },
     "execution_count": 94,
     "metadata": {},
     "output_type": "execute_result"
    }
   ],
   "source": [
    "Hayriye >= Ayse"
   ]
  },
  {
   "cell_type": "code",
   "execution_count": 99,
   "id": "afd32fa1-ded7-4885-ae75-2ccd8fe55723",
   "metadata": {},
   "outputs": [
    {
     "data": {
      "text/plain": [
       "True"
      ]
     },
     "execution_count": 99,
     "metadata": {},
     "output_type": "execute_result"
    }
   ],
   "source": [
    "Ayse != Hayriye"
   ]
  },
  {
   "cell_type": "code",
   "execution_count": 101,
   "id": "f6261488-b94d-4f26-8124-85c4bdcdc47d",
   "metadata": {},
   "outputs": [
    {
     "data": {
      "text/plain": [
       "True"
      ]
     },
     "execution_count": 101,
     "metadata": {},
     "output_type": "execute_result"
    }
   ],
   "source": [
    "Fatma <= Hayriye"
   ]
  },
  {
   "cell_type": "code",
   "execution_count": 103,
   "id": "b8b9501b-a670-4079-abf9-c11cb8d5bbf9",
   "metadata": {},
   "outputs": [
    {
     "data": {
      "text/plain": [
       "True"
      ]
     },
     "execution_count": 103,
     "metadata": {},
     "output_type": "execute_result"
    }
   ],
   "source": [
    "Ayse < Fatma and Ayse < Hayriye"
   ]
  },
  {
   "cell_type": "code",
   "execution_count": 105,
   "id": "2b691f73-0343-49f9-88be-34793f8de2b6",
   "metadata": {},
   "outputs": [
    {
     "data": {
      "text/plain": [
       "False"
      ]
     },
     "execution_count": 105,
     "metadata": {},
     "output_type": "execute_result"
    }
   ],
   "source": [
    "Fatma < Hayriye and Hayriye < Ayse"
   ]
  },
  {
   "cell_type": "code",
   "execution_count": 107,
   "id": "5eea920f-9aaf-45ca-b0f1-fc04bf08ab8d",
   "metadata": {},
   "outputs": [
    {
     "data": {
      "text/plain": [
       "True"
      ]
     },
     "execution_count": 107,
     "metadata": {},
     "output_type": "execute_result"
    }
   ],
   "source": [
    "Ayse > Fatma or Hayriye > Fatma"
   ]
  },
  {
   "cell_type": "code",
   "execution_count": 109,
   "id": "1e282f38-8824-46db-8684-32e87e59e01b",
   "metadata": {},
   "outputs": [
    {
     "data": {
      "text/plain": [
       "False"
      ]
     },
     "execution_count": 109,
     "metadata": {},
     "output_type": "execute_result"
    }
   ],
   "source": [
    "not (Ayse > Fatma or Hayriye > Fatma)"
   ]
  },
  {
   "cell_type": "markdown",
   "id": "a1a0eb92",
   "metadata": {},
   "source": [
    "# 3\n",
    "Kullanıcıdan iki değer girmesini istenir. Girilen değerlerin toplama, çıkarma, çarpma, bölme sonuçlarını yazdırılır."
   ]
  },
  {
   "cell_type": "code",
   "execution_count": 113,
   "id": "c361e45a",
   "metadata": {},
   "outputs": [],
   "source": [
    "deger = 27\n",
    "deger2 = 6"
   ]
  },
  {
   "cell_type": "code",
   "execution_count": 115,
   "id": "f5f8f356-b53f-4fab-8766-bbf0af21b501",
   "metadata": {},
   "outputs": [
    {
     "data": {
      "text/plain": [
       "33"
      ]
     },
     "execution_count": 115,
     "metadata": {},
     "output_type": "execute_result"
    }
   ],
   "source": [
    "deger + deger2"
   ]
  },
  {
   "cell_type": "code",
   "execution_count": 117,
   "id": "d3a69621-ccdf-45c0-849f-5fe10ea7bef2",
   "metadata": {},
   "outputs": [
    {
     "data": {
      "text/plain": [
       "21"
      ]
     },
     "execution_count": 117,
     "metadata": {},
     "output_type": "execute_result"
    }
   ],
   "source": [
    "deger - deger2"
   ]
  },
  {
   "cell_type": "code",
   "execution_count": 119,
   "id": "097a506e-872b-41c3-a13e-5f23d882a163",
   "metadata": {},
   "outputs": [
    {
     "data": {
      "text/plain": [
       "162"
      ]
     },
     "execution_count": 119,
     "metadata": {},
     "output_type": "execute_result"
    }
   ],
   "source": [
    "deger * deger2"
   ]
  },
  {
   "cell_type": "code",
   "execution_count": 121,
   "id": "91f7ac45-47e7-47c1-8ff8-480d282da1ae",
   "metadata": {},
   "outputs": [
    {
     "data": {
      "text/plain": [
       "4.5"
      ]
     },
     "execution_count": 121,
     "metadata": {},
     "output_type": "execute_result"
    }
   ],
   "source": [
    "deger / deger2"
   ]
  },
  {
   "cell_type": "code",
   "execution_count": 123,
   "id": "7fdf0044-9950-4126-9978-1dd810f50efc",
   "metadata": {},
   "outputs": [
    {
     "data": {
      "text/plain": [
       "4"
      ]
     },
     "execution_count": 123,
     "metadata": {},
     "output_type": "execute_result"
    }
   ],
   "source": [
    "deger // deger2"
   ]
  },
  {
   "cell_type": "code",
   "execution_count": 125,
   "id": "e61f1218-980b-4baa-aa5c-b53fa6bdec41",
   "metadata": {},
   "outputs": [
    {
     "data": {
      "text/plain": [
       "3"
      ]
     },
     "execution_count": 125,
     "metadata": {},
     "output_type": "execute_result"
    }
   ],
   "source": [
    "deger % deger2"
   ]
  },
  {
   "cell_type": "markdown",
   "id": "060b0bea",
   "metadata": {},
   "source": [
    "# 4\n",
    "Kullanıcıdan isim, yaş, şehir ve meslek bilgilerini istenir ve cevaplarını yazdırılır."
   ]
  },
  {
   "cell_type": "code",
   "execution_count": 129,
   "id": "4661f624-081c-4209-81de-b3fad56c3552",
   "metadata": {},
   "outputs": [
    {
     "name": "stdin",
     "output_type": "stream",
     "text": [
      "Adınız: Sıla\n"
     ]
    }
   ],
   "source": [
    "isim = input(\"Adınız:\")"
   ]
  },
  {
   "cell_type": "code",
   "execution_count": 131,
   "id": "fa934f5e-6f16-4624-99d1-dfff73a96326",
   "metadata": {},
   "outputs": [
    {
     "name": "stdout",
     "output_type": "stream",
     "text": [
      "Sıla\n"
     ]
    }
   ],
   "source": [
    "print(isim)"
   ]
  },
  {
   "cell_type": "code",
   "execution_count": 139,
   "id": "3fa21986-61e4-4f06-85f9-fe59a5e71afb",
   "metadata": {},
   "outputs": [
    {
     "name": "stdin",
     "output_type": "stream",
     "text": [
      "Yaşınız: 24\n"
     ]
    }
   ],
   "source": [
    "yas = input(\"Yaşınız:\")"
   ]
  },
  {
   "cell_type": "code",
   "execution_count": 141,
   "id": "34543e00-2acb-47e1-b4a2-2e6502a77e56",
   "metadata": {},
   "outputs": [
    {
     "name": "stdout",
     "output_type": "stream",
     "text": [
      "24\n"
     ]
    }
   ],
   "source": [
    "print(yas)"
   ]
  },
  {
   "cell_type": "code",
   "execution_count": 143,
   "id": "df9bd0d8-cf18-4f2b-99a2-efbe4c2a8af4",
   "metadata": {},
   "outputs": [
    {
     "name": "stdin",
     "output_type": "stream",
     "text": [
      "Nerelisiniz: Fethiye\n"
     ]
    }
   ],
   "source": [
    "sehir = input(\"Nerelisiniz:\")"
   ]
  },
  {
   "cell_type": "code",
   "execution_count": 145,
   "id": "fac93424-b52c-4839-a553-196c8bc2b0fd",
   "metadata": {},
   "outputs": [
    {
     "name": "stdout",
     "output_type": "stream",
     "text": [
      "Fethiye\n"
     ]
    }
   ],
   "source": [
    "print(sehir)"
   ]
  },
  {
   "cell_type": "code",
   "execution_count": 147,
   "id": "921c1249-13ee-4e2a-9016-7f54cf95ee56",
   "metadata": {},
   "outputs": [
    {
     "name": "stdin",
     "output_type": "stream",
     "text": [
      "Meslek: Yazılımcı\n"
     ]
    }
   ],
   "source": [
    "meslek = input(\"Meslek:\")"
   ]
  },
  {
   "cell_type": "code",
   "execution_count": 149,
   "id": "a2244428-7720-4420-a1c6-bfb1f7c1e605",
   "metadata": {},
   "outputs": [
    {
     "name": "stdout",
     "output_type": "stream",
     "text": [
      "Yazılımcı\n"
     ]
    }
   ],
   "source": [
    "print(meslek)"
   ]
  },
  {
   "cell_type": "markdown",
   "id": "55e1a34e",
   "metadata": {},
   "source": [
    "# 5\n",
    "\"Hi-Kod Veri Bilimi Atölyesi\" ifadesini bir değişkene tanımlanır.\n",
    "\n",
    "\n",
    " 1. İfadedeki her bir kelimeyi (\"Hi-Kod\", \"Veri\", \"Bilimi\", \"Atölyesi\") değişken içinden seçilir. \n",
    " 2. İfadeyi hepsini büyük harf olacak hale çevrilir. (\"HI-KOD VERİ BİLİMİ ATÖLYESİ\") \n",
    " 3. İfadeyi hepsini büyük harf olacak hale çevrilir.(\"hi-kod veri bilimi atölyesi\") \n",
    "\n",
    "\"0123456789\" ifadesindeki yalnızca çift sayıları ve yalnızca tek sayıları seçilir. (\"02468\", \"13579\")"
   ]
  },
  {
   "cell_type": "code",
   "execution_count": 151,
   "id": "0fc1bc40",
   "metadata": {},
   "outputs": [],
   "source": [
    "atolye = \"Hi-Kod Veri Bilimi Atolyesi\""
   ]
  },
  {
   "cell_type": "code",
   "execution_count": 153,
   "id": "1a33a0e8-6308-4275-977d-63f0d1f21a67",
   "metadata": {},
   "outputs": [
    {
     "data": {
      "text/plain": [
       "['Hi-Kod', 'Veri', 'Bilimi', 'Atolyesi']"
      ]
     },
     "execution_count": 153,
     "metadata": {},
     "output_type": "execute_result"
    }
   ],
   "source": [
    "atolye.split( )"
   ]
  },
  {
   "cell_type": "code",
   "execution_count": 157,
   "id": "79e74e37-b4c9-46e4-b043-70bc401a851f",
   "metadata": {},
   "outputs": [],
   "source": [
    "rakamlar = \"0123456789\""
   ]
  },
  {
   "cell_type": "code",
   "execution_count": 159,
   "id": "8577567c-8cbc-4ae5-88d7-941310b06816",
   "metadata": {},
   "outputs": [
    {
     "data": {
      "text/plain": [
       "'02468'"
      ]
     },
     "execution_count": 159,
     "metadata": {},
     "output_type": "execute_result"
    }
   ],
   "source": [
    "rakamlar[::2]"
   ]
  },
  {
   "cell_type": "code",
   "execution_count": 167,
   "id": "ee166c6c-db8f-43bb-910b-642fe63af208",
   "metadata": {},
   "outputs": [],
   "source": [
    "yeni_rakamlar = rakamlar[1:10]"
   ]
  },
  {
   "cell_type": "code",
   "execution_count": 169,
   "id": "e8351ac3-bb7e-4245-a197-a041d4193b79",
   "metadata": {},
   "outputs": [
    {
     "data": {
      "text/plain": [
       "'123456789'"
      ]
     },
     "execution_count": 169,
     "metadata": {},
     "output_type": "execute_result"
    }
   ],
   "source": [
    "yeni_rakamlar"
   ]
  },
  {
   "cell_type": "code",
   "execution_count": 173,
   "id": "04cca760-058e-4637-a638-370b068efcc3",
   "metadata": {},
   "outputs": [
    {
     "data": {
      "text/plain": [
       "'13579'"
      ]
     },
     "execution_count": 173,
     "metadata": {},
     "output_type": "execute_result"
    }
   ],
   "source": [
    "yeni_rakamlar[::2]"
   ]
  }
 ],
 "metadata": {
  "kernelspec": {
   "display_name": "Python [conda env:base] *",
   "language": "python",
   "name": "conda-base-py"
  },
  "language_info": {
   "codemirror_mode": {
    "name": "ipython",
    "version": 3
   },
   "file_extension": ".py",
   "mimetype": "text/x-python",
   "name": "python",
   "nbconvert_exporter": "python",
   "pygments_lexer": "ipython3",
   "version": "3.12.7"
  }
 },
 "nbformat": 4,
 "nbformat_minor": 5
}
